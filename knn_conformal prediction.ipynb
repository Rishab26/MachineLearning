{
 "cells": [
  {
   "cell_type": "markdown",
   "metadata": {},
   "source": [
    "# ASSIGNMENT 1 - Implementation of NN and KNN algorithm \n",
    "\n",
    "\n",
    "### Initializations of df, arrays. Parameters for the initialization taken from shape() function output "
   ]
  },
  {
   "cell_type": "code",
   "execution_count": 11,
   "metadata": {},
   "outputs": [],
   "source": [
    "import numpy as np\n",
    "import math\n",
    "import pandas as pd\n",
    "from sklearn.datasets import load_iris\n",
    "from numpy import loadtxt\n",
    "dist_ionosphere = np.empty([263,88])\n",
    "dist= np.empty((112,38))\n",
    "predition_index = np.array([])\n",
    "result= np.empty((38,1))\n",
    "result_ionosphere = np.empty((88,1))\n",
    "y_pred_nn = np.empty((38,1))\n",
    "y_pred_knn = np.empty((3,38))\n",
    "y_pred_nn_ionosphere = np.empty((88,1))\n",
    "y_pred_knn_ionosphere = np.empty((3,88))\n",
    "test_compare = np.empty((38,1))\n",
    "test_compare_knn = np.empty((38,1))\n",
    "test_compare_knn_ionosphere =np.empty((88,1))\n",
    "test_compare_ionosphere = np.empty((88,1))\n",
    "test_compare_knn_ionosphere = np.empty((88,1))\n",
    "y_pred = np.empty((38,1))\n",
    "pred_y_ionosphere = np.empty((88,1))\n",
    "a = np.empty((3,38))\n",
    "a_ionosphere = np.empty((3,88))"
   ]
  },
  {
   "cell_type": "markdown",
   "metadata": {},
   "source": [
    "### Quick reset counter(if required)"
   ]
  },
  {
   "cell_type": "code",
   "execution_count": 13,
   "metadata": {
    "collapsed": true,
    "jupyter": {
     "outputs_hidden": true
    }
   },
   "outputs": [],
   "source": [
    "i=0\n",
    "j=0\n",
    "k=0\n",
    "c=0\n",
    "r=0"
   ]
  },
  {
   "cell_type": "markdown",
   "metadata": {},
   "source": [
    "## Loading Iris data"
   ]
  },
  {
   "cell_type": "code",
   "execution_count": 14,
   "metadata": {
    "collapsed": true,
    "jupyter": {
     "outputs_hidden": true
    }
   },
   "outputs": [],
   "source": [
    "iris = load_iris()\n",
    "from sklearn.model_selection import train_test_split\n",
    "X_train, X_test , y_train, y_test = train_test_split(iris['data'],iris['target'],random_state=0) # Splitting data into Train and Test\n",
    "X_training = np.insert(X_train,4,y_train,axis=1) # for reference if train and corresponding test data is required to be used together"
   ]
  },
  {
   "cell_type": "markdown",
   "metadata": {},
   "source": [
    "### Fetching eucledian distance matrix"
   ]
  },
  {
   "cell_type": "code",
   "execution_count": 15,
   "metadata": {},
   "outputs": [],
   "source": [
    "for i in range(0,38):\n",
    "    for j in range(0,112):\n",
    "        dist[j,i] =np.sqrt(((X_test[i,0] - X_train[j,0])**2) + ((X_test[i,1] - X_train[j,1])**2) + ((X_test[i,2] - X_train[j,2])**2) + ((X_test[i,3] - X_train[j,3])**2))\n",
    "# A GENERALISED WAY OF IMPLEMENTING THIS FOR LARGE NUMBER OF PARAMETERS IS SHOWN IN THE NEXT DATASET"
   ]
  },
  {
   "cell_type": "markdown",
   "metadata": {},
   "source": [
    "## Implementation of NN - Iris dataset"
   ]
  },
  {
   "cell_type": "code",
   "execution_count": 16,
   "metadata": {
    "collapsed": true,
    "jupyter": {
     "outputs_hidden": true
    }
   },
   "outputs": [],
   "source": [
    "for k in range(0,38):\n",
    "    result[k,0] = ((np.where(min(dist[0:111,k]) == dist[0:111,k]))[0][0])  \n",
    "    result = result.astype(int)    \n",
    "    y_pred_nn[k,0]= y_train[result[k,0],]\n",
    "    if(y_pred_nn[k,0] == y_test[k,]):\n",
    "        test_compare[k,0] = 1\n",
    "    elif(y_pred_nn[k,0] != y_test[k,]):\n",
    "        test_compare[k,0] = 0"
   ]
  },
  {
   "cell_type": "markdown",
   "metadata": {},
   "source": [
    "### Test error for NN -Iris"
   ]
  },
  {
   "cell_type": "code",
   "execution_count": 18,
   "metadata": {},
   "outputs": [
    {
     "data": {
      "text/plain": [
       "0.97368421052631582"
      ]
     },
     "execution_count": 18,
     "metadata": {},
     "output_type": "execute_result"
    }
   ],
   "source": [
    "test_error_nn = test_compare.mean()\n",
    "test_error_nn"
   ]
  },
  {
   "cell_type": "markdown",
   "metadata": {},
   "source": [
    "## Implementation of KNN - Iris dataset"
   ]
  },
  {
   "cell_type": "code",
   "execution_count": 23,
   "metadata": {},
   "outputs": [],
   "source": [
    "K=3\n",
    "k3 = pd.DataFrame.from_records(dist)\n",
    "a =k3.apply(lambda x: pd.Series(x.nsmallest(3).index))\n",
    "a = a.values"
   ]
  },
  {
   "cell_type": "code",
   "execution_count": null,
   "metadata": {},
   "outputs": [],
   "source": [
    "for c in range(0,38):\n",
    "    for r in range(0,3):\n",
    "        y_pred_knn[r,c]= y_train[a[r,c],]\n",
    "    y_predicted_mode = pd.DataFrame.from_records(y_pred_knn)\n",
    "    pred_y = np.transpose(y_predicted_mode.mode( axis = 0)).astype(int)\n",
    "    pred_y = pred_y.values\n",
    "    if(pred_y[c,0] == y_test[c,]):\n",
    "        test_compare_knn[c,0] = 1\n",
    "    elif(pred_y[c,0] != y_test[c,]):\n",
    "        test_compare_knn[c,0] = 0\n",
    "# THIS CODE WORKS IN SPYDER PERFECTLY"
   ]
  },
  {
   "cell_type": "markdown",
   "metadata": {},
   "source": [
    "## Test error - KNN -Iris dataset"
   ]
  },
  {
   "cell_type": "code",
   "execution_count": null,
   "metadata": {
    "collapsed": true,
    "jupyter": {
     "outputs_hidden": true
    }
   },
   "outputs": [],
   "source": [
    "test_error_knn = test_compare.mean()\n",
    "#Test error received in SPYDER : 0.97368421052631582\n"
   ]
  },
  {
   "cell_type": "markdown",
   "metadata": {},
   "source": [
    "# Loading ionosphere data - loaded data from local machine "
   ]
  },
  {
   "cell_type": "code",
   "execution_count": 27,
   "metadata": {
    "collapsed": true,
    "jupyter": {
     "outputs_hidden": true
    }
   },
   "outputs": [],
   "source": [
    "lines = loadtxt(\"C:\\\\Users\\\\Rishab\\\\Desktop\\\\ionosphere\\\\ionosphere.txt\", delimiter=\",\")\n",
    "from sklearn.model_selection import train_test_split\n",
    "X_train, X_test , y_train, y_test = train_test_split(lines[:,0:33],lines[:,34],random_state=0)"
   ]
  },
  {
   "cell_type": "markdown",
   "metadata": {},
   "source": [
    "### Fetching euclidean distance matrix with general form"
   ]
  },
  {
   "cell_type": "code",
   "execution_count": 28,
   "metadata": {
    "collapsed": true,
    "jupyter": {
     "outputs_hidden": true
    }
   },
   "outputs": [],
   "source": [
    "for l in range(0,88):\n",
    "    for j in range(0,263):\n",
    "        for i in range(0,33):\n",
    "            dist_ionosphere[j,l] =np.sqrt(np.sum((X_test[l,i]-X_train[j,i])**2))"
   ]
  },
  {
   "cell_type": "markdown",
   "metadata": {},
   "source": [
    "### Implementing NN in ionosphere dataset"
   ]
  },
  {
   "cell_type": "code",
   "execution_count": 29,
   "metadata": {
    "collapsed": true,
    "jupyter": {
     "outputs_hidden": true
    }
   },
   "outputs": [],
   "source": [
    "for k in range(0,88):\n",
    "    result_ionosphere[k,0] = ((np.where(min(dist_ionosphere[0:111,k]) == dist_ionosphere[0:111,k]))[0][0])\n",
    "    result_ionosphere = result_ionosphere.astype(int)    \n",
    "    y_pred_nn_ionosphere[k,0]= y_train[result_ionosphere[k,0],]\n",
    "    if(y_pred_nn_ionosphere[k,0] == y_test[k,]):\n",
    "        test_compare_ionosphere[k,0] = 1\n",
    "    elif(y_pred_nn_ionosphere[k,0] != y_test[k,]):\n",
    "        test_compare_ionosphere[k,0] = 0"
   ]
  },
  {
   "cell_type": "markdown",
   "metadata": {},
   "source": [
    "### Test error - NN - Ionosphere dataset"
   ]
  },
  {
   "cell_type": "code",
   "execution_count": 31,
   "metadata": {},
   "outputs": [
    {
     "data": {
      "text/plain": [
       "0.71590909090909094"
      ]
     },
     "execution_count": 31,
     "metadata": {},
     "output_type": "execute_result"
    }
   ],
   "source": [
    "test_error_nn_ionosphere = test_compare_ionosphere.mean()\n",
    "test_error_nn_ionosphere"
   ]
  },
  {
   "cell_type": "markdown",
   "metadata": {},
   "source": [
    "### Implementation of KNN in ionosphere dataset"
   ]
  },
  {
   "cell_type": "code",
   "execution_count": null,
   "metadata": {},
   "outputs": [],
   "source": [
    "k3 = pd.DataFrame.from_records(dist_ionosphere)\n",
    "a_ionosphere =k3.apply(lambda x: pd.Series(x.nsmallest(3).index))\n",
    "a_ionosphere = a_ionosphere\n",
    "\n",
    "for c in range(0,88):\n",
    "    for r in range(0,3):\n",
    "        y_pred_knn_ionosphere[r,c]= y_train[a_ionosphere[r,c],]\n",
    "    y_predicted_mode_ionosphere = pd.DataFrame.from_records(y_pred_knn_ionosphere)\n",
    "    pred_y_ionosphere = np.transpose(y_predicted_mode_ionosphere.mode( axis = 0))\n",
    "    pred_y_ionosphere = pred_y_ionosphere.values\n",
    "    if(pred_y_ionosphere[c,0] == y_test[c,]):\n",
    "        test_compare_knn_ionosphere[c,0] = 1\n",
    "    elif(pred_y_ionosphere[c,0] != y_test[c,]):\n",
    "        test_compare_knn_ionosphere[c,0] = 0\n",
    "\n",
    "# THIS CODE WORKS IN SPYDER PERFECTLY\n"
   ]
  },
  {
   "cell_type": "markdown",
   "metadata": {},
   "source": [
    "## Test error - KNN - Ionosphere dataset"
   ]
  },
  {
   "cell_type": "code",
   "execution_count": null,
   "metadata": {
    "collapsed": true,
    "jupyter": {
     "outputs_hidden": true
    }
   },
   "outputs": [],
   "source": [
    "test_error_knn_ionosphere = test_compare_knn_ionosphere.mean()\n",
    "#Test error received in SPYDER : 0.82954545454545459"
   ]
  }
 ],
 "metadata": {
  "kernelspec": {
   "display_name": "Python 3",
   "language": "python",
   "name": "python3"
  },
  "language_info": {
   "codemirror_mode": {
    "name": "ipython",
    "version": 3
   },
   "file_extension": ".py",
   "mimetype": "text/x-python",
   "name": "python",
   "nbconvert_exporter": "python",
   "pygments_lexer": "ipython3",
   "version": "3.7.7"
  }
 },
 "nbformat": 4,
 "nbformat_minor": 4
}
